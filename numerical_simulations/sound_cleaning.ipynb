{
 "cells": [
  {
   "cell_type": "code",
   "execution_count": 21,
   "id": "96b93354",
   "metadata": {},
   "outputs": [],
   "source": [
    "%reload_ext autoreload\n",
    "\n",
    "\n",
    "import fourier\n",
    "import numpy as np\n",
    "import sounddevice as sdvc\n",
    "from scipy.io import wavfile\n",
    "import seaborn as sns\n",
    "\n",
    "sps, sound = wavfile.read(\"my_voice_record.wav\")\n",
    "sound = np.array(sound,np.int16)[:,0]\n",
    "samples = sound.shape[0]\n",
    "ftime = samples/sps\n",
    "\n",
    "frequencies = fourier.forward(sound,np.linspace(0,ftime,samples),[0,700],2000)\n",
    "cleaned = fourier.inverse(np.linspace(0,ftime,samples),frequencies)*0.5\n"
   ]
  },
  {
   "cell_type": "code",
   "execution_count": 20,
   "id": "7f51e233",
   "metadata": {},
   "outputs": [],
   "source": [
    "sdvc.play(sound)\n",
    "sdvc.wait()\n",
    "\n",
    "sdvc.play(cleaned)\n",
    "sdvc.wait()"
   ]
  }
 ],
 "metadata": {
  "kernelspec": {
   "display_name": "Python 3",
   "language": "python",
   "name": "python3"
  },
  "language_info": {
   "codemirror_mode": {
    "name": "ipython",
    "version": 3
   },
   "file_extension": ".py",
   "mimetype": "text/x-python",
   "name": "python",
   "nbconvert_exporter": "python",
   "pygments_lexer": "ipython3",
   "version": "3.13.2"
  }
 },
 "nbformat": 4,
 "nbformat_minor": 5
}
